{
 "cells": [
  {
   "cell_type": "markdown",
   "id": "987d22f5",
   "metadata": {},
   "source": [
    "# Computational Theory"
   ]
  },
  {
   "cell_type": "code",
   "execution_count": 5,
   "id": "5e23dc10",
   "metadata": {},
   "outputs": [],
   "source": [
    "import numpy as np"
   ]
  },
  {
   "cell_type": "markdown",
   "id": "27ac5d68",
   "metadata": {},
   "source": [
    "## Problem 1 - Binary Words & Operations"
   ]
  },
  {
   "cell_type": "markdown",
   "id": "ef476619",
   "metadata": {},
   "source": [
    "## Problem 2 - Fractional Parts of Cube Roots"
   ]
  },
  {
   "cell_type": "markdown",
   "id": "013665f6",
   "metadata": {},
   "source": [
    "## Problem 3 - Padding"
   ]
  },
  {
   "cell_type": "markdown",
   "id": "af7e1883",
   "metadata": {},
   "source": [
    "## Problem 4 - Hashes"
   ]
  },
  {
   "cell_type": "markdown",
   "id": "d06fcf25",
   "metadata": {},
   "source": [
    "## Problem 5 - Passwords"
   ]
  },
  {
   "cell_type": "markdown",
   "id": "3d73ad75",
   "metadata": {},
   "source": [
    "## End"
   ]
  }
 ],
 "metadata": {
  "kernelspec": {
   "display_name": "Python 3",
   "language": "python",
   "name": "python3"
  },
  "language_info": {
   "codemirror_mode": {
    "name": "ipython",
    "version": 3
   },
   "file_extension": ".py",
   "mimetype": "text/x-python",
   "name": "python",
   "nbconvert_exporter": "python",
   "pygments_lexer": "ipython3",
   "version": "3.12.1"
  }
 },
 "nbformat": 4,
 "nbformat_minor": 5
}
