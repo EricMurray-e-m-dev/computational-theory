{
 "cells": [
  {
   "cell_type": "markdown",
   "id": "987d22f5",
   "metadata": {},
   "source": [
    "# Computational Theory"
   ]
  },
  {
   "cell_type": "markdown",
   "id": "b4c51809",
   "metadata": {},
   "source": [
    "## Introduction"
   ]
  },
  {
   "cell_type": "markdown",
   "id": "f4d96485",
   "metadata": {},
   "source": [
    "## Imports"
   ]
  },
  {
   "cell_type": "code",
   "execution_count": 143,
   "id": "5e23dc10",
   "metadata": {},
   "outputs": [],
   "source": [
    "import numpy as np"
   ]
  },
  {
   "cell_type": "markdown",
   "id": "27ac5d68",
   "metadata": {},
   "source": [
    "## Problem 1 - Binary Words & Operations"
   ]
  },
  {
   "cell_type": "markdown",
   "id": "b91c76a0",
   "metadata": {},
   "source": [
    "### Implementing Parity"
   ]
  },
  {
   "cell_type": "code",
   "execution_count": 144,
   "id": "38de5e27",
   "metadata": {},
   "outputs": [],
   "source": [
    "def parity(x, y, z):\n",
    "    \"\"\"\n",
    "    Calculate the parity (bitwise XOR) of 3 32-bit unsigned integers.\n",
    "\n",
    "    Args:\n",
    "        x, y, z (int): 32-bit unsigned integer.\n",
    "\n",
    "    Returns:\n",
    "        int: The parity of the three integers as a 32-bit unsigned integer.\n",
    "\n",
    "    \"\"\"\n",
    "\n",
    "    for args in (x, y, z):\n",
    "        if not isinstance(args, (int, np.integer)):\n",
    "            raise TypeError(\"All arguments must be integers. No other types are allowed.\")\n",
    "\n",
    "    # Using the built in ^ operator to compute the bitwise XOR of the three integers\n",
    "    # np.uint32 is used to force the result as a 32-bit unsigned integer\n",
    "    return np.uint32(x) ^ np.uint32(y) ^ np.uint32(z)"
   ]
  },
  {
   "cell_type": "markdown",
   "id": "49add163",
   "metadata": {},
   "source": [
    "#### Test Cases"
   ]
  },
  {
   "cell_type": "code",
   "execution_count": 145,
   "id": "7c875e59",
   "metadata": {},
   "outputs": [
    {
     "name": "stdout",
     "output_type": "stream",
     "text": [
      "All test cases pass\n"
     ]
    }
   ],
   "source": [
    "def test_valid_parity():\n",
    "    assert parity(1, 0, 0) == np.uint32(1)\n",
    "    assert parity(1, 1, 0) == np.uint32(0)\n",
    "    assert parity(5, 12, 6) == np.uint32(15)\n",
    "\n",
    "def test_parity_type_error():\n",
    "    try:\n",
    "        parity(1.5, 2, 3)\n",
    "    except TypeError:\n",
    "        pass\n",
    "    else:\n",
    "        raise AssertionError(\"Expected TypeError for float input\")\n",
    "    \n",
    "test_valid_parity()\n",
    "test_parity_type_error()\n",
    "\n",
    "print(\"All test cases pass\")"
   ]
  },
  {
   "cell_type": "markdown",
   "id": "ff1d8e55",
   "metadata": {},
   "source": [
    "### Implementing Choose (Ch)"
   ]
  },
  {
   "cell_type": "code",
   "execution_count": 146,
   "id": "390761be",
   "metadata": {},
   "outputs": [],
   "source": [
    "def ch(x, y, z):\n",
    "    \"\"\"\n",
    "    Implementing the choose function used in SHA-256.\n",
    "\n",
    "    The choose function is defined as:\n",
    "        Ch(x, y, z) = (x AND y) XOR (NOT x AND z)\n",
    "\n",
    "    In my own words,\n",
    "        X acts as a 'mask' , each bit of the 32-bit int is checked\n",
    "        If the current bit is 1, the i'th bit of y is chosen\n",
    "        else the i'th bit of z is chosen.\n",
    "    \n",
    "    Example:\n",
    "        x = 100'200'123 =       00000101 11111000 11101110 10111011\n",
    "        y = 123'200'100 =       00000111 01010111 11100010 01100100\n",
    "        z = 200'123'100 =       00001011 11101101 10100010 11011100\n",
    "        Output - If X's current bit is 1 => \"Choose\" Y's bit\n",
    "                    Else \"Choose\" X's bit\n",
    "                                00001111 01010101 11100010 01100100\n",
    "\n",
    "    Args:\n",
    "        x, y, z (int): 32-bit unsigned integers.\n",
    "        \n",
    "    Returns:\n",
    "        int: The result of the choose function as a 32-bit unsigned integer.\n",
    "    \n",
    "    References:\n",
    "        Used external site for grabbing example values\n",
    "        See: https://www.binaryconvert.com/convert_unsigned_int.html\n",
    "    \"\"\"\n",
    "\n",
    "    for args in (x, y, z):\n",
    "        if not isinstance(args, (int, np.integer)):\n",
    "            raise TypeError(\"All arguments must be integers. No other types are allowed.\")\n",
    "\n",
    "    # Using the tilde(~) operator to compute the bitwise NOT\n",
    "    # np.uint32 is used to force the result as a 32-bit unsigned integer\n",
    "    return np.uint32((x & y) ^ (~x & z))"
   ]
  },
  {
   "cell_type": "markdown",
   "id": "3e09eea4",
   "metadata": {},
   "source": [
    "#### Test Cases"
   ]
  },
  {
   "cell_type": "code",
   "execution_count": 147,
   "id": "64aa98fc",
   "metadata": {},
   "outputs": [
    {
     "name": "stdout",
     "output_type": "stream",
     "text": [
      "All test cases pass\n"
     ]
    }
   ],
   "source": [
    "def test_valid_ch():\n",
    "    assert ch(1, 0, 0) == np.uint32(0)\n",
    "    assert ch(1, 1, 0) == np.uint32(1)\n",
    "    assert ch(5, 12, 6) == np.uint32(6)\n",
    "\n",
    "def test_ch_type_error():\n",
    "    try:\n",
    "        ch(1.5, 2, 3)\n",
    "    except TypeError:\n",
    "        pass\n",
    "    else:\n",
    "        raise AssertionError(\"Expected TypeError for float input\")\n",
    "\n",
    "test_valid_ch()\n",
    "test_ch_type_error()\n",
    "\n",
    "print(\"All test cases pass\")"
   ]
  },
  {
   "cell_type": "markdown",
   "id": "9f6c782a",
   "metadata": {},
   "source": [
    "### Implementing Majority (Maj)"
   ]
  },
  {
   "cell_type": "code",
   "execution_count": 148,
   "id": "02cfa911",
   "metadata": {},
   "outputs": [],
   "source": [
    "def maj(x, y, z):\n",
    "    \"\"\"\n",
    "    Implementing the majority function used in SHA-256.\n",
    "\n",
    "    The majority function is defined as:\n",
    "        Maj(x, y, z) = (x AND y) XOR (x AND z) XOR (y AND z)\n",
    "    \n",
    "    In my own words,\n",
    "        The majority function checks each bit of each of the passed ints.\n",
    "        If 2 or more bits are 1, the output is 1, else 0.\n",
    "    \n",
    "    Example:\n",
    "        X       =    01101001\n",
    "        Y       =    11010100\n",
    "        Z       =    11110000\n",
    "        Output  =    11110000\n",
    "\n",
    "    Args:\n",
    "        x, y, z (int): 32-bit unsigned integers.\n",
    "    \n",
    "    Returns:\n",
    "        int: Returns the majority bitwise as 32-bit unsigned integer.\n",
    "    \n",
    "    References:\n",
    "    \n",
    "    \"\"\"\n",
    "\n",
    "    for args in (x, y, z):\n",
    "        if not isinstance(args, (int, np.integer)):\n",
    "            raise TypeError(\"All arguments must be integers. No other types are allowed.\")\n",
    "    \n",
    "    return np.uint32((x & y) ^ (x & z) ^ (y & z))"
   ]
  },
  {
   "cell_type": "markdown",
   "id": "71ec06c7",
   "metadata": {},
   "source": [
    "#### Test Cases"
   ]
  },
  {
   "cell_type": "code",
   "execution_count": 149,
   "id": "71073809",
   "metadata": {},
   "outputs": [
    {
     "name": "stdout",
     "output_type": "stream",
     "text": [
      "All test cases pass\n"
     ]
    }
   ],
   "source": [
    "def test_maj_valid():\n",
    "    assert maj(1, 0, 0) == np.uint32(0)\n",
    "    assert maj(1, 1, 0) == np.uint32(1)\n",
    "    assert maj(5, 12, 6) == np.uint32(4)\n",
    "\n",
    "def test_maj_type_error():\n",
    "    try:\n",
    "        maj(1.5, 2, 3)\n",
    "    except TypeError:\n",
    "        pass\n",
    "    else:\n",
    "        raise AssertionError(\"Expected TypeError for float input\")\n",
    "\n",
    "test_maj_valid()\n",
    "test_maj_type_error()\n",
    "\n",
    "print(\"All test cases pass\")\n"
   ]
  },
  {
   "cell_type": "markdown",
   "id": "39d1b896",
   "metadata": {},
   "source": [
    "### Implementing Big & Small Sigmas + Helper Functions"
   ]
  },
  {
   "cell_type": "markdown",
   "id": "db637e38",
   "metadata": {},
   "source": [
    "#### Helper Functions\n",
    "- ROTR -> For rotating bits, shifts bits to the right, if it falls off, move it to the left(start)\n",
    "- SHR -> Logical shift bits, shifts bits to the right, fill the left with zeros"
   ]
  },
  {
   "cell_type": "code",
   "execution_count": 150,
   "id": "004d7afb",
   "metadata": {},
   "outputs": [],
   "source": [
    "def rotr(x, n):\n",
    "    \"\"\"\n",
    "    Perform a right rotation on a 32-bit unsigned integer.\n",
    "\n",
    "    Args:\n",
    "        x (int): 32-bit unsigned integer to be rotated.\n",
    "        n (int): Number of positions to rotate.\n",
    "\n",
    "    Returns:\n",
    "        int: The result of the right rotation as a 32-bit unsigned integer.\n",
    "    \"\"\"\n",
    "    for args in (x, n):\n",
    "        if not isinstance(args, (int, np.integer)):\n",
    "            raise TypeError(\"All arguments must be integers. No other types are allowed.\")\n",
    "\n",
    "    n = n % 32  # Ensure n is within the range of 0-31\n",
    "    return np.uint32((x >> n) | (x << (32 - n)))"
   ]
  },
  {
   "cell_type": "code",
   "execution_count": 151,
   "id": "d71a7400",
   "metadata": {},
   "outputs": [],
   "source": [
    "def shr(x, n):\n",
    "    \"\"\"\n",
    "    Perform a logical right shift on a 32-bit unsigned integer.\n",
    "\n",
    "    Args:\n",
    "        x (int): 32-bit unsigned integer to be shifted.\n",
    "        n (int): Number of positions to shift.\n",
    "\n",
    "    Returns:\n",
    "        int: The result of the logical right shift as a 32-bit unsigned integer.\n",
    "    \"\"\"\n",
    "    for args in (x, n):\n",
    "        if not isinstance(args, (int, np.integer)):\n",
    "            raise TypeError(\"All arguments must be integers. No other types are allowed.\")\n",
    "\n",
    "    return np.uint32(x) >> n # np.uint32 fills left with zeros built in"
   ]
  },
  {
   "cell_type": "markdown",
   "id": "ebad3b11",
   "metadata": {},
   "source": [
    "#### Test Cases (Helper Functions)"
   ]
  },
  {
   "cell_type": "code",
   "execution_count": 152,
   "id": "84d9f7df",
   "metadata": {},
   "outputs": [
    {
     "ename": "OverflowError",
     "evalue": "Python integer 21474836485 out of bounds for uint32",
     "output_type": "error",
     "traceback": [
      "\u001b[31m---------------------------------------------------------------------------\u001b[39m",
      "\u001b[31mOverflowError\u001b[39m                             Traceback (most recent call last)",
      "\u001b[36mCell\u001b[39m\u001b[36m \u001b[39m\u001b[32mIn[152]\u001b[39m\u001b[32m, line 26\u001b[39m\n\u001b[32m     23\u001b[39m     \u001b[38;5;28;01melse\u001b[39;00m:\n\u001b[32m     24\u001b[39m         \u001b[38;5;28;01mraise\u001b[39;00m \u001b[38;5;167;01mAssertionError\u001b[39;00m(\u001b[33m\"\u001b[39m\u001b[33mExpected TypeError for float input\u001b[39m\u001b[33m\"\u001b[39m)\n\u001b[32m---> \u001b[39m\u001b[32m26\u001b[39m \u001b[43mtest_rotr_valid\u001b[49m\u001b[43m(\u001b[49m\u001b[43m)\u001b[49m\n\u001b[32m     27\u001b[39m test_shr_valid()\n\u001b[32m     28\u001b[39m test_rotr_type_error()\n",
      "\u001b[36mCell\u001b[39m\u001b[36m \u001b[39m\u001b[32mIn[152]\u001b[39m\u001b[32m, line 2\u001b[39m, in \u001b[36mtest_rotr_valid\u001b[39m\u001b[34m()\u001b[39m\n\u001b[32m      1\u001b[39m \u001b[38;5;28;01mdef\u001b[39;00m\u001b[38;5;250m \u001b[39m\u001b[34mtest_rotr_valid\u001b[39m():\n\u001b[32m----> \u001b[39m\u001b[32m2\u001b[39m     \u001b[38;5;28;01massert\u001b[39;00m \u001b[43mrotr\u001b[49m\u001b[43m(\u001b[49m\u001b[32;43m10\u001b[39;49m\u001b[43m,\u001b[49m\u001b[43m \u001b[49m\u001b[32;43m1\u001b[39;49m\u001b[43m)\u001b[49m == np.uint32(\u001b[32m5\u001b[39m)\n\u001b[32m      3\u001b[39m     \u001b[38;5;28;01massert\u001b[39;00m rotr(\u001b[32m10\u001b[39m, \u001b[32m2\u001b[39m) == np.uint32(\u001b[32m2147483650\u001b[39m)\n\u001b[32m      4\u001b[39m     \u001b[38;5;28;01massert\u001b[39;00m rotr(\u001b[32m16\u001b[39m, \u001b[32m4\u001b[39m) == np.uint32(\u001b[32m1\u001b[39m)\n",
      "\u001b[36mCell\u001b[39m\u001b[36m \u001b[39m\u001b[32mIn[150]\u001b[39m\u001b[32m, line 17\u001b[39m, in \u001b[36mrotr\u001b[39m\u001b[34m(x, n)\u001b[39m\n\u001b[32m     14\u001b[39m         \u001b[38;5;28;01mraise\u001b[39;00m \u001b[38;5;167;01mTypeError\u001b[39;00m(\u001b[33m\"\u001b[39m\u001b[33mAll arguments must be integers. No other types are allowed.\u001b[39m\u001b[33m\"\u001b[39m)\n\u001b[32m     16\u001b[39m n = n % \u001b[32m32\u001b[39m  \u001b[38;5;66;03m# Ensure n is within the range of 0-31\u001b[39;00m\n\u001b[32m---> \u001b[39m\u001b[32m17\u001b[39m \u001b[38;5;28;01mreturn\u001b[39;00m \u001b[43mnp\u001b[49m\u001b[43m.\u001b[49m\u001b[43muint32\u001b[49m\u001b[43m(\u001b[49m\u001b[43m(\u001b[49m\u001b[43mx\u001b[49m\u001b[43m \u001b[49m\u001b[43m>>\u001b[49m\u001b[43m \u001b[49m\u001b[43mn\u001b[49m\u001b[43m)\u001b[49m\u001b[43m \u001b[49m\u001b[43m|\u001b[49m\u001b[43m \u001b[49m\u001b[43m(\u001b[49m\u001b[43mx\u001b[49m\u001b[43m \u001b[49m\u001b[43m<<\u001b[49m\u001b[43m \u001b[49m\u001b[43m(\u001b[49m\u001b[32;43m32\u001b[39;49m\u001b[43m \u001b[49m\u001b[43m-\u001b[49m\u001b[43m \u001b[49m\u001b[43mn\u001b[49m\u001b[43m)\u001b[49m\u001b[43m)\u001b[49m\u001b[43m)\u001b[49m\n",
      "\u001b[31mOverflowError\u001b[39m: Python integer 21474836485 out of bounds for uint32"
     ]
    }
   ],
   "source": [
    "def test_rotr_valid():\n",
    "    assert rotr(10, 1) == np.uint32(5)\n",
    "    assert rotr(10, 2) == np.uint32(2147483650)\n",
    "    assert rotr(16, 4) == np.uint32(1)\n",
    "\n",
    "def test_shr_valid():\n",
    "    assert shr(10, 1) == np.uint32(5)\n",
    "    assert shr(10, 2) == np.uint32(2)\n",
    "\n",
    "def test_rotr_type_error():\n",
    "    try:\n",
    "        rotr(1.5, 2)\n",
    "    except TypeError:\n",
    "        pass\n",
    "    else:\n",
    "        raise AssertionError(\"Expected TypeError for float input\")\n",
    "\n",
    "def test_shr_type_error():\n",
    "    try:\n",
    "        shr(1.5, 2)\n",
    "    except TypeError:\n",
    "        pass\n",
    "    else:\n",
    "        raise AssertionError(\"Expected TypeError for float input\")\n",
    "\n",
    "test_rotr_valid()\n",
    "test_shr_valid()\n",
    "test_rotr_type_error()\n",
    "test_shr_type_error()\n",
    "\n",
    "print(\"All test cases pass\")"
   ]
  },
  {
   "cell_type": "markdown",
   "id": "ef476619",
   "metadata": {},
   "source": [
    "## Problem 2 - Fractional Parts of Cube Roots"
   ]
  },
  {
   "cell_type": "markdown",
   "id": "013665f6",
   "metadata": {},
   "source": [
    "## Problem 3 - Padding"
   ]
  },
  {
   "cell_type": "markdown",
   "id": "af7e1883",
   "metadata": {},
   "source": [
    "## Problem 4 - Hashes"
   ]
  },
  {
   "cell_type": "markdown",
   "id": "d06fcf25",
   "metadata": {},
   "source": [
    "## Problem 5 - Passwords"
   ]
  },
  {
   "cell_type": "markdown",
   "id": "bd8f51d5",
   "metadata": {},
   "source": [
    "## Conclusion"
   ]
  },
  {
   "cell_type": "markdown",
   "id": "3d73ad75",
   "metadata": {},
   "source": [
    "## End"
   ]
  }
 ],
 "metadata": {
  "kernelspec": {
   "display_name": "Python 3",
   "language": "python",
   "name": "python3"
  },
  "language_info": {
   "codemirror_mode": {
    "name": "ipython",
    "version": 3
   },
   "file_extension": ".py",
   "mimetype": "text/x-python",
   "name": "python",
   "nbconvert_exporter": "python",
   "pygments_lexer": "ipython3",
   "version": "3.12.1"
  }
 },
 "nbformat": 4,
 "nbformat_minor": 5
}
