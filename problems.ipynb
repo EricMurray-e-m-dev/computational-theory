{
 "cells": [
  {
   "cell_type": "markdown",
   "id": "987d22f5",
   "metadata": {},
   "source": [
    "# Computational Theory"
   ]
  },
  {
   "cell_type": "markdown",
   "id": "b4c51809",
   "metadata": {},
   "source": [
    "## Introduction"
   ]
  },
  {
   "cell_type": "markdown",
   "id": "f4d96485",
   "metadata": {},
   "source": [
    "## Imports"
   ]
  },
  {
   "cell_type": "code",
   "execution_count": 17,
   "id": "5e23dc10",
   "metadata": {},
   "outputs": [],
   "source": [
    "import numpy as np"
   ]
  },
  {
   "cell_type": "markdown",
   "id": "27ac5d68",
   "metadata": {},
   "source": [
    "## Problem 1 - Binary Words & Operations"
   ]
  },
  {
   "cell_type": "markdown",
   "id": "b91c76a0",
   "metadata": {},
   "source": [
    "### Implementing Parity"
   ]
  },
  {
   "cell_type": "code",
   "execution_count": 18,
   "id": "38de5e27",
   "metadata": {},
   "outputs": [],
   "source": [
    "def parity(x, y, z):\n",
    "    \"\"\"\n",
    "    Calculate the parity (bitwise XOR) of 3 32-bit unsigned integers.\n",
    "\n",
    "    \"\"\"\n",
    "\n",
    "    return x ^ y ^ z"
   ]
  },
  {
   "cell_type": "markdown",
   "id": "49add163",
   "metadata": {},
   "source": [
    "#### Test Cases"
   ]
  },
  {
   "cell_type": "code",
   "execution_count": 19,
   "id": "7c875e59",
   "metadata": {},
   "outputs": [
    {
     "name": "stdout",
     "output_type": "stream",
     "text": [
      "All test cases pass\n"
     ]
    }
   ],
   "source": [
    "assert parity(1, 0, 0) == np.uint32(1)\n",
    "assert parity(1, 1, 0) == np.uint32(0)\n",
    "assert parity(1, 1, 1) == np.uint32(1)\n",
    "\n",
    "print(\"All test cases pass\")"
   ]
  },
  {
   "cell_type": "markdown",
   "id": "ef476619",
   "metadata": {},
   "source": [
    "## Problem 2 - Fractional Parts of Cube Roots"
   ]
  },
  {
   "cell_type": "markdown",
   "id": "013665f6",
   "metadata": {},
   "source": [
    "## Problem 3 - Padding"
   ]
  },
  {
   "cell_type": "markdown",
   "id": "af7e1883",
   "metadata": {},
   "source": [
    "## Problem 4 - Hashes"
   ]
  },
  {
   "cell_type": "markdown",
   "id": "d06fcf25",
   "metadata": {},
   "source": [
    "## Problem 5 - Passwords"
   ]
  },
  {
   "cell_type": "markdown",
   "id": "bd8f51d5",
   "metadata": {},
   "source": [
    "## Conclusion"
   ]
  },
  {
   "cell_type": "markdown",
   "id": "3d73ad75",
   "metadata": {},
   "source": [
    "## End"
   ]
  }
 ],
 "metadata": {
  "kernelspec": {
   "display_name": "Python 3",
   "language": "python",
   "name": "python3"
  },
  "language_info": {
   "codemirror_mode": {
    "name": "ipython",
    "version": 3
   },
   "file_extension": ".py",
   "mimetype": "text/x-python",
   "name": "python",
   "nbconvert_exporter": "python",
   "pygments_lexer": "ipython3",
   "version": "3.12.1"
  }
 },
 "nbformat": 4,
 "nbformat_minor": 5
}
