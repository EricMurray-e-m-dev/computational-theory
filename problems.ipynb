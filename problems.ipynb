{
 "cells": [
  {
   "cell_type": "markdown",
   "id": "987d22f5",
   "metadata": {},
   "source": [
    "# Computational Theory"
   ]
  },
  {
   "cell_type": "markdown",
   "id": "b4c51809",
   "metadata": {},
   "source": [
    "## Introduction\n",
    "\n",
    ">Things to reference later\n",
    ">\n",
    "> https://www.markdownguide.org/ for markdown guidance\n",
    ">"
   ]
  },
  {
   "cell_type": "markdown",
   "id": "f4d96485",
   "metadata": {},
   "source": [
    "## Imports"
   ]
  },
  {
   "cell_type": "code",
   "execution_count": 32,
   "id": "5e23dc10",
   "metadata": {},
   "outputs": [],
   "source": [
    "import numpy as np"
   ]
  },
  {
   "cell_type": "markdown",
   "id": "27ac5d68",
   "metadata": {},
   "source": [
    "## Problem 1 - Binary Words & Operations"
   ]
  },
  {
   "cell_type": "markdown",
   "id": "b91c76a0",
   "metadata": {},
   "source": [
    "### Implementing Parity\n",
    "\n",
    "**Purpose**: The Parity function computes the bitwise XOR of 3 unsigned 32-bit integers.  \n",
    "Each bit in the **output** is set to 1, if there is an odd number of **input** bits as 1; Otherwise 0\n",
    "\n",
    "\n",
    "**Spec.** Defined in the Secure Hash Standard (FIPS 180-4, p.10) as:\n",
    ">\n",
    ">Parity(x, y, z) = x XOR y XOR z\n",
    ">\n",
    "See: [FIPS 180-4](https://nvlpubs.nist.gov/nistpubs/FIPS/NIST.FIPS.180-4.pdf)\n",
    "\n",
    "\n",
    "**Intuition**: Fairly simple function  \n",
    "Just flips the bits based off of odd number of inputs as above.\n",
    "- If 1 or 3 of them are 1, Output -> 1\n",
    "- If 0 or 2 of them are 1, Output -> 0\n",
    "\n",
    "\n",
    "**Example**  \n",
    "X       =   0110  \n",
    "Y       =   1110  \n",
    "Z       =   0010  \n",
    "\n",
    "Output  =   1010"
   ]
  },
  {
   "cell_type": "code",
   "execution_count": 33,
   "id": "38de5e27",
   "metadata": {},
   "outputs": [],
   "source": [
    "def parity(x, y, z):\n",
    "    \"\"\"\n",
    "    Calculate the parity (bitwise XOR) of 3 32-bit unsigned integers.\n",
    "\n",
    "    Parameters\n",
    "    ----------\n",
    "        x, y, z (int / numpy.uint32)\n",
    "            32-bit unsigned integer.\n",
    "\n",
    "    Returns\n",
    "    -------\n",
    "        numpy.uint32\n",
    "            The parity of the three integers.\n",
    "\n",
    "    Raises\n",
    "    ------\n",
    "        TypeError\n",
    "            If any argument is not an integer.\n",
    "    \"\"\"\n",
    "\n",
    "    # Loop over each passed parameter\n",
    "    for args in (x, y, z):\n",
    "        # Use isInstance to ensure correct type (object, desired type)\n",
    "        # See: https://www.w3schools.com/python/ref_func_isinstance.asp\n",
    "        if not isinstance(args, (int, np.integer)):\n",
    "            # Raises / Throws a TypeError with a message\n",
    "            raise TypeError(\"All arguments must be integers. No other types are allowed.\")\n",
    "\n",
    "    # Cast all inputs as NumPy unsigned 32-bit integers.\n",
    "    # See: https://numpy.org/doc/stable/reference/arrays.scalars.html#numpy.uint32\n",
    "    x, y, z = np.uint32(x), np.uint32(y), np.uint32(z)\n",
    "\n",
    "    # Apply bitwise XOR (^) to the three inputs and return\n",
    "    return x ^ y ^ z"
   ]
  },
  {
   "cell_type": "markdown",
   "id": "49add163",
   "metadata": {},
   "source": [
    "#### Test Cases"
   ]
  },
  {
   "cell_type": "code",
   "execution_count": 34,
   "id": "7c875e59",
   "metadata": {},
   "outputs": [
    {
     "name": "stdout",
     "output_type": "stream",
     "text": [
      "All test cases pass\n"
     ]
    }
   ],
   "source": [
    "def test_valid_parity():\n",
    "    assert parity(1, 0, 0) == np.uint32(1)\n",
    "    assert parity(1, 1, 0) == np.uint32(0)\n",
    "    assert parity(5, 12, 6) == np.uint32(15)\n",
    "\n",
    "def test_parity_type_error():\n",
    "    try:\n",
    "        parity(1.5, 2, 3)\n",
    "    except TypeError:\n",
    "        pass\n",
    "    else:\n",
    "        raise AssertionError(\"Expected TypeError for float input\")\n",
    "    \n",
    "test_valid_parity()\n",
    "test_parity_type_error()\n",
    "\n",
    "print(\"All test cases pass\")"
   ]
  },
  {
   "cell_type": "markdown",
   "id": "ff1d8e55",
   "metadata": {},
   "source": [
    "### Implementing Choose (Ch)"
   ]
  },
  {
   "cell_type": "code",
   "execution_count": 35,
   "id": "390761be",
   "metadata": {},
   "outputs": [],
   "source": [
    "def ch(x, y, z):\n",
    "    \"\"\"\n",
    "    Implementing the choose function used in SHA-256.\n",
    "\n",
    "    The choose function is defined as:\n",
    "        Ch(x, y, z) = (x AND y) XOR (NOT x AND z)\n",
    "\n",
    "    In my own words,\n",
    "        X acts as a 'mask' , each bit of the 32-bit int is checked\n",
    "        If the current bit is 1, the i'th bit of y is chosen\n",
    "        else the i'th bit of z is chosen.\n",
    "    \n",
    "    Example:\n",
    "        x = 100'200'123 =       00000101 11111000 11101110 10111011\n",
    "        y = 123'200'100 =       00000111 01010111 11100010 01100100\n",
    "        z = 200'123'100 =       00001011 11101101 10100010 11011100\n",
    "        Output - If X's current bit is 1 => \"Choose\" Y's bit\n",
    "                    Else \"Choose\" Z's bit\n",
    "                                00001111 01010101 11100010 01100100\n",
    "\n",
    "    Args:\n",
    "        x, y, z (int): 32-bit unsigned integers.\n",
    "        \n",
    "    Returns:\n",
    "        int: The result of the choose function as a 32-bit unsigned integer.\n",
    "    \n",
    "    References:\n",
    "        Used external site for grabbing example values\n",
    "        See: https://www.binaryconvert.com/convert_unsigned_int.html\n",
    "    \"\"\"\n",
    "\n",
    "    for args in (x, y, z):\n",
    "        if not isinstance(args, (int, np.integer)):\n",
    "            raise TypeError(\"All arguments must be integers. No other types are allowed.\")\n",
    "\n",
    "    # Using the tilde(~) operator to compute the bitwise NOT\n",
    "    # np.uint32 is used to force the result as a 32-bit unsigned integer\n",
    "    return np.uint32((x & y) ^ (~x & z))"
   ]
  },
  {
   "cell_type": "markdown",
   "id": "3e09eea4",
   "metadata": {},
   "source": [
    "#### Test Cases"
   ]
  },
  {
   "cell_type": "code",
   "execution_count": 36,
   "id": "64aa98fc",
   "metadata": {},
   "outputs": [
    {
     "name": "stdout",
     "output_type": "stream",
     "text": [
      "All test cases pass\n"
     ]
    }
   ],
   "source": [
    "def test_valid_ch():\n",
    "    assert ch(1, 0, 0) == np.uint32(0)\n",
    "    assert ch(1, 1, 0) == np.uint32(1)\n",
    "    assert ch(5, 12, 6) == np.uint32(6)\n",
    "\n",
    "def test_ch_type_error():\n",
    "    try:\n",
    "        ch(1.5, 2, 3)\n",
    "    except TypeError:\n",
    "        pass\n",
    "    else:\n",
    "        raise AssertionError(\"Expected TypeError for float input\")\n",
    "\n",
    "test_valid_ch()\n",
    "test_ch_type_error()\n",
    "\n",
    "print(\"All test cases pass\")"
   ]
  },
  {
   "cell_type": "markdown",
   "id": "9f6c782a",
   "metadata": {},
   "source": [
    "### Implementing Majority (Maj)"
   ]
  },
  {
   "cell_type": "code",
   "execution_count": 37,
   "id": "02cfa911",
   "metadata": {},
   "outputs": [],
   "source": [
    "def maj(x, y, z):\n",
    "    \"\"\"\n",
    "    Implementing the majority function used in SHA-256.\n",
    "\n",
    "    The majority function is defined as:\n",
    "        Maj(x, y, z) = (x AND y) XOR (x AND z) XOR (y AND z)\n",
    "    \n",
    "    In my own words,\n",
    "        The majority function checks each bit of each of the passed ints.\n",
    "        If 2 or more bits are 1, the output is 1, else 0.\n",
    "    \n",
    "    Example:\n",
    "        X       =    01101001\n",
    "        Y       =    11010100\n",
    "        Z       =    11110000\n",
    "        Output  =    11110000\n",
    "\n",
    "    Args:\n",
    "        x, y, z (int): 32-bit unsigned integers.\n",
    "    \n",
    "    Returns:\n",
    "        int: Returns the majority bitwise as 32-bit unsigned integer.\n",
    "    \n",
    "    References:\n",
    "    \n",
    "    \"\"\"\n",
    "\n",
    "    for args in (x, y, z):\n",
    "        if not isinstance(args, (int, np.integer)):\n",
    "            raise TypeError(\"All arguments must be integers. No other types are allowed.\")\n",
    "    \n",
    "    return np.uint32((x & y) ^ (x & z) ^ (y & z))"
   ]
  },
  {
   "cell_type": "markdown",
   "id": "71ec06c7",
   "metadata": {},
   "source": [
    "#### Test Cases"
   ]
  },
  {
   "cell_type": "code",
   "execution_count": 38,
   "id": "71073809",
   "metadata": {},
   "outputs": [
    {
     "name": "stdout",
     "output_type": "stream",
     "text": [
      "All test cases pass\n"
     ]
    }
   ],
   "source": [
    "def test_maj_valid():\n",
    "    assert maj(1, 0, 0) == np.uint32(0)\n",
    "    assert maj(1, 1, 0) == np.uint32(1)\n",
    "    assert maj(5, 12, 6) == np.uint32(4)\n",
    "\n",
    "def test_maj_type_error():\n",
    "    try:\n",
    "        maj(1.5, 2, 3)\n",
    "    except TypeError:\n",
    "        pass\n",
    "    else:\n",
    "        raise AssertionError(\"Expected TypeError for float input\")\n",
    "\n",
    "test_maj_valid()\n",
    "test_maj_type_error()\n",
    "\n",
    "print(\"All test cases pass\")\n"
   ]
  },
  {
   "cell_type": "markdown",
   "id": "39d1b896",
   "metadata": {},
   "source": [
    "### Implementing Big & Small Sigmas + Helper Functions"
   ]
  },
  {
   "cell_type": "markdown",
   "id": "db637e38",
   "metadata": {},
   "source": [
    "#### Helper Functions\n",
    "- ROTR -> For rotating bits, shifts bits to the right, if it falls off, move it to the left(start)\n",
    "- SHR -> Logical shift bits, shifts bits to the right, fill the left with zeros"
   ]
  },
  {
   "cell_type": "code",
   "execution_count": 39,
   "id": "004d7afb",
   "metadata": {},
   "outputs": [],
   "source": [
    "def rotr(x, n):\n",
    "    \"\"\"\n",
    "    Perform a right rotation on a 32-bit unsigned integer.\n",
    "\n",
    "    Args:\n",
    "        x (int): 32-bit unsigned integer to be rotated.\n",
    "        n (int): Number of positions to rotate.\n",
    "\n",
    "    Returns:\n",
    "        int: The result of the right rotation as a 32-bit unsigned integer.\n",
    "    \"\"\"\n",
    "    for args in (x, n):\n",
    "        if not isinstance(args, (int, np.integer)):\n",
    "            raise TypeError(\"All arguments must be integers. No other types are allowed.\")\n",
    "\n",
    "    n = n % 32  # Ensure n is within the range of 0-31\n",
    "    x = np.uint32(x)  # Cast x before shifting stop overflow error\n",
    "\n",
    "    if n == 0:\n",
    "        return x\n",
    "\n",
    "    return np.uint32((x >> n) | (x << (32 - n)))"
   ]
  },
  {
   "cell_type": "code",
   "execution_count": 40,
   "id": "d71a7400",
   "metadata": {},
   "outputs": [],
   "source": [
    "def shr(x, n):\n",
    "    \"\"\"\n",
    "    Perform a logical right shift on a 32-bit unsigned integer.\n",
    "\n",
    "    Args:\n",
    "        x (int): 32-bit unsigned integer to be shifted.\n",
    "        n (int): Number of positions to shift.\n",
    "\n",
    "    Returns:\n",
    "        int: The result of the logical right shift as a 32-bit unsigned integer.\n",
    "    \"\"\"\n",
    "    for args in (x, n):\n",
    "        if not isinstance(args, (int, np.integer)):\n",
    "            raise TypeError(\"All arguments must be integers. No other types are allowed.\")\n",
    "\n",
    "    return np.uint32(x) >> n # np.uint32 fills left with zeros built in"
   ]
  },
  {
   "cell_type": "markdown",
   "id": "ebad3b11",
   "metadata": {},
   "source": [
    "##### Test Cases (Helper Functions)"
   ]
  },
  {
   "cell_type": "code",
   "execution_count": 41,
   "id": "84d9f7df",
   "metadata": {},
   "outputs": [
    {
     "name": "stdout",
     "output_type": "stream",
     "text": [
      "All test cases pass\n"
     ]
    }
   ],
   "source": [
    "def test_rotr_valid():\n",
    "    assert rotr(10, 1) == np.uint32(5)\n",
    "    assert rotr(10, 2) == np.uint32(2147483650)\n",
    "    assert rotr(16, 4) == np.uint32(1)\n",
    "\n",
    "def test_shr_valid():\n",
    "    assert shr(10, 1) == np.uint32(5)\n",
    "    assert shr(10, 2) == np.uint32(2)\n",
    "\n",
    "def test_rotr_type_error():\n",
    "    try:\n",
    "        rotr(1.5, 2)\n",
    "    except TypeError:\n",
    "        pass\n",
    "    else:\n",
    "        raise AssertionError(\"Expected TypeError for float input\")\n",
    "\n",
    "def test_shr_type_error():\n",
    "    try:\n",
    "        shr(1.5, 2)\n",
    "    except TypeError:\n",
    "        pass\n",
    "    else:\n",
    "        raise AssertionError(\"Expected TypeError for float input\")\n",
    "\n",
    "test_rotr_valid()\n",
    "test_shr_valid()\n",
    "test_rotr_type_error()\n",
    "test_shr_type_error()\n",
    "\n",
    "print(\"All test cases pass\")"
   ]
  },
  {
   "cell_type": "markdown",
   "id": "4048283c",
   "metadata": {},
   "source": [
    "#### Big Sigma 0 & 1\n",
    "- Sigma 0 -> XOR Bitwise with 3 rotations (2, 13, 22) - SHA-256 Reference required here\n",
    "- Sigma 1 -> XOR Bitwise with 3 rotations (6, 11, 25) - SHA-256 Reference required here"
   ]
  },
  {
   "cell_type": "code",
   "execution_count": 42,
   "id": "61db59a0",
   "metadata": {},
   "outputs": [],
   "source": [
    "def big_sigma_0(x):\n",
    "    \"\"\"\n",
    "    Implementing the Big Sigma 0 function used in SHA-256.\n",
    "\n",
    "    The Big Sigma 0 function is defined as:\n",
    "        Σ0(x) = ROTR^2(x) XOR ROTR^13(x) XOR ROTR^22(x)\n",
    "    \n",
    "    Args:\n",
    "        x (int): 32-bit unsigned integer.\n",
    "    Returns:\n",
    "        int: Result of the Big Sigma 0 function as a 32-bit unsigned integer.\n",
    "    \"\"\"\n",
    "    if not isinstance(x, (int, np.integer)):\n",
    "        raise TypeError(\"Argument must be an integer. No other types are allowed.\")\n",
    "\n",
    "    x = np.uint32(x)\n",
    "    return np.uint32(rotr(x, 2) ^ rotr(x, 13) ^ rotr(x, 22))"
   ]
  },
  {
   "cell_type": "code",
   "execution_count": 43,
   "id": "3b52cba2",
   "metadata": {},
   "outputs": [],
   "source": [
    "def big_sigma_1(x):\n",
    "    \"\"\"\n",
    "    Implementing the Big Sigma 1 function used in SHA-256.\n",
    "\n",
    "    The Big Sigma 1 function is defined as:\n",
    "        Σ1(x) = ROTR^6(x) XOR ROTR^11(x) XOR ROTR^25(x)\n",
    "        \n",
    "    Args:\n",
    "        x (int): 32-bit unsigned integer.\n",
    "    Returns:\n",
    "        int: Result of the Big Sigma 1 function as a 32-bit unsigned integer.\n",
    "    \"\"\"\n",
    "    if not isinstance(x, (int, np.integer)):\n",
    "        raise TypeError(\"Argument must be an integer. No other types are allowed.\")\n",
    "\n",
    "    x = np.uint32(x)\n",
    "    return np.uint32(rotr(x, 6) ^ rotr(x, 11) ^ rotr(x, 25))"
   ]
  },
  {
   "cell_type": "markdown",
   "id": "beae99fe",
   "metadata": {},
   "source": [
    "##### Test Cases (Big Sigma(s))"
   ]
  },
  {
   "cell_type": "code",
   "execution_count": 44,
   "id": "4dddd201",
   "metadata": {},
   "outputs": [
    {
     "name": "stdout",
     "output_type": "stream",
     "text": [
      "All test cases pass\n"
     ]
    }
   ],
   "source": [
    "def test_bsigma_0_valid():\n",
    "    assert big_sigma_0(1)  == np.uint32(rotr(1, 2) ^ rotr(1, 13) ^ rotr(1, 22))\n",
    "    assert big_sigma_0(5)  == np.uint32(rotr(5, 2) ^ rotr(5, 13) ^ rotr(5, 22))\n",
    "    assert big_sigma_0(10) == np.uint32(rotr(10, 2) ^ rotr(10, 13) ^ rotr(10, 22))\n",
    "\n",
    "def test_bsigma_1_valid():\n",
    "    assert big_sigma_1(1)  == np.uint32(rotr(1, 6) ^ rotr(1, 11) ^ rotr(1, 25))\n",
    "    assert big_sigma_1(5)  == np.uint32(rotr(5, 6) ^ rotr(5, 11) ^ rotr(5, 25))\n",
    "    assert big_sigma_1(10) == np.uint32(rotr(10, 6) ^ rotr(10, 11) ^ rotr(10, 25))\n",
    "\n",
    "\n",
    "def test_bsigma_type_error():\n",
    "    try:\n",
    "        big_sigma_0(1.5)\n",
    "    except TypeError:\n",
    "        pass\n",
    "    else:\n",
    "        raise AssertionError(\"Expected TypeError for float input\")\n",
    "    \n",
    "    try:\n",
    "        big_sigma_1(1.5)\n",
    "    except TypeError:\n",
    "        pass\n",
    "    else:\n",
    "         raise AssertionError(\"Expected TypeError for float input\")\n",
    "\n",
    "test_bsigma_0_valid()\n",
    "test_bsigma_1_valid()\n",
    "test_bsigma_type_error()\n",
    "\n",
    "print(\"All test cases pass\")"
   ]
  },
  {
   "cell_type": "markdown",
   "id": "1a279407",
   "metadata": {},
   "source": [
    "#### Small Sigma 0 & 1\n",
    "- sigma 0 -> XOR Bitwise, 2 rotations (7, 18) & Bitwise shift right (3) - SHA-256 Reference required here\n",
    "- sigma 1 -> XOR Bitwise, 2 rotations (17, 19) & Bitwise shift right (10) - SHA-256 Reference required here"
   ]
  },
  {
   "cell_type": "code",
   "execution_count": 45,
   "id": "83581c89",
   "metadata": {},
   "outputs": [],
   "source": [
    "def small_sigma_0(x):\n",
    "    \"\"\"\n",
    "    Implementing the Small Sigma 0 function used in SHA-256.\n",
    "\n",
    "    Args:\n",
    "        x (int): 32-bit unsigned integer.\n",
    "    \n",
    "    Returns:\n",
    "        int: Result of the Small Sigma 0 function as a 32-bit unsigned integer.\n",
    "    \"\"\"\n",
    "\n",
    "    if not isinstance(x, (int, np.integer)):\n",
    "        raise TypeError(\"Argument must be an integer. No other types are allowed.\")\n",
    "\n",
    "    x = np.uint32(x)\n",
    "    return np.uint32(rotr(x, 7) ^ rotr(x, 18) ^ shr(x, 3))"
   ]
  },
  {
   "cell_type": "code",
   "execution_count": 46,
   "id": "3a3b59d9",
   "metadata": {},
   "outputs": [],
   "source": [
    "def small_sigma_1(x):\n",
    "    \"\"\"\n",
    "    Implementing the Small Sigma 1 function used in SHA-256.\n",
    "\n",
    "    Args:\n",
    "        x (int): 32-bit unsigned integer.\n",
    "    \n",
    "    Returns:\n",
    "        int: Result of the Small Sigma 1 function as a 32-bit unsigned integer.\n",
    "    \"\"\"\n",
    "\n",
    "    if not isinstance(x, (int, np.integer)):\n",
    "        raise TypeError(\"Argument must be an integer. No other types are allowed.\")\n",
    "\n",
    "    x = np.uint32(x)\n",
    "    return np.uint32(rotr(x, 17) ^ rotr(x, 19) ^ shr(x, 10))"
   ]
  },
  {
   "cell_type": "markdown",
   "id": "6fca1805",
   "metadata": {},
   "source": [
    "##### Test Cases (Small Sigma(s))"
   ]
  },
  {
   "cell_type": "code",
   "execution_count": 47,
   "id": "42e61c58",
   "metadata": {},
   "outputs": [
    {
     "name": "stdout",
     "output_type": "stream",
     "text": [
      "All test cases pass\n"
     ]
    }
   ],
   "source": [
    "def test_ssigma_0_valid():\n",
    "    assert small_sigma_0(1)  == np.uint32(rotr(1, 7) ^ rotr(1, 18) ^ shr(1, 3))\n",
    "    assert small_sigma_0(5)  == np.uint32(rotr(5, 7) ^ rotr(5, 18) ^ shr(5, 3))\n",
    "    assert small_sigma_0(10) == np.uint32(rotr(10, 7) ^ rotr(10, 18) ^ shr(10, 3))\n",
    "\n",
    "def test_ssigma_type_error():\n",
    "    try:\n",
    "        small_sigma_0(1.5)\n",
    "    except TypeError:\n",
    "        pass\n",
    "    else:\n",
    "        raise AssertionError(\"Expected TypeError for float input\")\n",
    "    \n",
    "    try:\n",
    "        small_sigma_1(1.5)\n",
    "    except TypeError:\n",
    "        pass\n",
    "    else:\n",
    "         raise AssertionError(\"Expected TypeError for float input\")\n",
    "\n",
    "test_ssigma_0_valid()\n",
    "test_ssigma_type_error()\n",
    "\n",
    "print(\"All test cases pass\")"
   ]
  },
  {
   "cell_type": "markdown",
   "id": "ef476619",
   "metadata": {},
   "source": [
    "## Problem 2 - Fractional Parts of Cube Roots"
   ]
  },
  {
   "cell_type": "markdown",
   "id": "013665f6",
   "metadata": {},
   "source": [
    "## Problem 3 - Padding"
   ]
  },
  {
   "cell_type": "markdown",
   "id": "af7e1883",
   "metadata": {},
   "source": [
    "## Problem 4 - Hashes"
   ]
  },
  {
   "cell_type": "markdown",
   "id": "d06fcf25",
   "metadata": {},
   "source": [
    "## Problem 5 - Passwords"
   ]
  },
  {
   "cell_type": "markdown",
   "id": "bd8f51d5",
   "metadata": {},
   "source": [
    "## Conclusion"
   ]
  },
  {
   "cell_type": "markdown",
   "id": "3d73ad75",
   "metadata": {},
   "source": [
    "## End"
   ]
  }
 ],
 "metadata": {
  "kernelspec": {
   "display_name": "Python 3",
   "language": "python",
   "name": "python3"
  },
  "language_info": {
   "codemirror_mode": {
    "name": "ipython",
    "version": 3
   },
   "file_extension": ".py",
   "mimetype": "text/x-python",
   "name": "python",
   "nbconvert_exporter": "python",
   "pygments_lexer": "ipython3",
   "version": "3.12.1"
  }
 },
 "nbformat": 4,
 "nbformat_minor": 5
}
