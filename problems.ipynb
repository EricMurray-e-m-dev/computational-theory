{
 "cells": [
  {
   "cell_type": "markdown",
   "id": "987d22f5",
   "metadata": {},
   "source": [
    "# Computational Theory"
   ]
  },
  {
   "cell_type": "markdown",
   "id": "b4c51809",
   "metadata": {},
   "source": [
    "## Introduction\n",
    "\n",
    ">Things to reference later\n",
    ">\n",
    "> https://www.markdownguide.org/ for markdown guidance\n",
    ">"
   ]
  },
  {
   "cell_type": "markdown",
   "id": "f4d96485",
   "metadata": {},
   "source": [
    "## Imports"
   ]
  },
  {
   "cell_type": "code",
   "execution_count": 1,
   "id": "5e23dc10",
   "metadata": {},
   "outputs": [],
   "source": [
    "import numpy as np"
   ]
  },
  {
   "cell_type": "markdown",
   "id": "dadb6b49",
   "metadata": {},
   "source": [
    "## Technical Glossary\n",
    "\n",
    "This section defines operations & technical terms used throughout the implementation of solutions for the problems set out in the assignment.  \n",
    "\n",
    "### Bitwise Logical Operations\n",
    "**Bitwise Operations** are operations that work on the individiual bits of a binary number. Applying the operator to each bit individually but all bits simulatenously.\n",
    "\n",
    "**XOR (Exclusive OR)**  \n",
    "Outputs 1 when the input bits are different.  \n",
    "\n",
    "| A | B | A ⊕ B |\n",
    "|---|---|-------|\n",
    "| 0 | 0 |   0   |\n",
    "| 0 | 1 |   1   |\n",
    "| 1 | 0 |   1   |\n",
    "| 1 | 1 |   0   |\n",
    "\n",
    "**AND**  \n",
    "Outputs 1 when both input bits are 1  \n",
    "\n",
    "| A | B | A & B |\n",
    "|---|---|-------|\n",
    "| 0 | 0 |   0   |\n",
    "| 0 | 1 |   0   |\n",
    "| 1 | 0 |   0   |\n",
    "| 1 | 1 |   1   |\n",
    "\n",
    "**NOT**  \n",
    "Output flips the bits  \n",
    "\n",
    "| A | ¬A |\n",
    "|---|----|\n",
    "| 0 | 1  |\n",
    "| 1 | 0  |\n",
    "\n",
    "### Bit Manipulation Operations  \n",
    "\n",
    "- `ROTR^n(x)`: Rotate right -  shifts bits to the right **n** times, 'fallen' bits move back to the left (start)\n",
    "- `SHR^n(x)`: Logical shift right - shifts bits to the right **n** times; fills left with zeros  \n",
    "\n",
    "\n",
    "### Common Terms\n",
    "\n",
    "- **Bitwise Operation**: Performs an operation on each individual bit \n",
    "- **32-bit unsigned integer**: An integer represented by 32 individual bits in a binary sequence. \"Unsigned\" meaning non-negative values.\n",
    "- **Diffusion**: Where the input changes are spread throughout the output  \n",
    "\n",
    "See: [FIPS 180-4, Sections 2.2.2 and 3.2](https://nvlpubs.nist.gov/nistpubs/FIPS/NIST.FIPS.180-4.pdf)"
   ]
  },
  {
   "cell_type": "markdown",
   "id": "27ac5d68",
   "metadata": {},
   "source": [
    "## Problem 1 - Binary Words & Operations"
   ]
  },
  {
   "cell_type": "markdown",
   "id": "b91c76a0",
   "metadata": {},
   "source": [
    "### Implementing Parity\n",
    "\n",
    "**Spec.** Defined in the Secure Hash Standard (FIPS 180-4, Section 4.1.2, p.10) as:\n",
    ">\n",
    ">$\\text{Parity}(x, y, z) = x \\oplus y \\oplus z$\n",
    ">\n",
    "\n",
    "  \n",
    "**How it works**:  \n",
    "Chains XOR operations across three 32-bit integers.  \n",
    "Since XOR is a binary operation it takes 2 inputs. The expression is evaluated as $(x \\oplus y) \\oplus z$. The result of x XOR y is then, result XOR z.  \n",
    "\n",
    "Each output bit is 1 if there is an odd number of input bits set to 1, otherwise 0. This is why its called \"Parity\" it checks the parity(odd/even count) of bits at each position.\n",
    "\n",
    "\n",
    "**Example**  \n",
    "X       =   0110  \n",
    "Y       =   1110  \n",
    "Z       =   0010  \n",
    "\n",
    "Output  =   1010\n",
    "\n",
    "See: [FIPS 180-4](https://nvlpubs.nist.gov/nistpubs/FIPS/NIST.FIPS.180-4.pdf)"
   ]
  },
  {
   "cell_type": "code",
   "execution_count": 2,
   "id": "38de5e27",
   "metadata": {},
   "outputs": [],
   "source": [
    "def parity(x: int, y: int, z: int) -> np.uint32:\n",
    "    \"\"\"\n",
    "    Bitwise Parity: output bit is 1 if an odd number of input bits are 1.\n",
    "\n",
    "    Parameters\n",
    "    ----------\n",
    "        x, y, z (int / numpy.uint32)\n",
    "            32-bit unsigned integers.\n",
    "\n",
    "    Returns\n",
    "    -------\n",
    "        numpy.uint32\n",
    "            The parity of the three integers.\n",
    "\n",
    "    Raises\n",
    "    ------\n",
    "        TypeError\n",
    "            If any argument is not an integer.\n",
    "    \"\"\"\n",
    "\n",
    "    # Loop over each passed parameter\n",
    "    for args in (x, y, z):\n",
    "        # Use isInstance to ensure correct type (object, desired type)\n",
    "        # See: https://www.w3schools.com/python/ref_func_isinstance.asp\n",
    "        if not isinstance(args, (int, np.integer)):\n",
    "            # Raises / Throws a TypeError with a message\n",
    "            raise TypeError(\"All arguments must be integers. No other types are allowed.\")\n",
    "\n",
    "    # Cast all inputs as NumPy unsigned 32-bit integers.\n",
    "    # See: https://numpy.org/doc/stable/reference/arrays.scalars.html#numpy.uint32\n",
    "    x, y, z = np.uint32(x), np.uint32(y), np.uint32(z)\n",
    "\n",
    "    # Apply bitwise XOR (^) to the three inputs and return\n",
    "    return x ^ y ^ z"
   ]
  },
  {
   "cell_type": "markdown",
   "id": "49add163",
   "metadata": {},
   "source": [
    "#### Test Cases (Parity)\n",
    "\n",
    "Checking\n",
    "- Correct results for trivial values\n",
    "- Correct results for non-trivial values\n",
    "- Type enforcement (raise TypeError for non-integer values)"
   ]
  },
  {
   "cell_type": "code",
   "execution_count": 3,
   "id": "7c875e59",
   "metadata": {},
   "outputs": [
    {
     "name": "stdout",
     "output_type": "stream",
     "text": [
      "All test cases pass\n"
     ]
    }
   ],
   "source": [
    "def test_valid_parity():\n",
    "    assert parity(1, 0, 0) == np.uint32(1)      # Odd number of 1s\n",
    "    assert parity(1, 1, 0) == np.uint32(0)      # Even number of 1s\n",
    "    assert parity(5, 12, 6) == np.uint32(15)    # General (non-trivial) case\n",
    "\n",
    "def test_parity_type_error():\n",
    "    try:\n",
    "        parity(1.5, 2, 3)\n",
    "    except TypeError:\n",
    "        pass\n",
    "    else:\n",
    "        raise AssertionError(\"Expected TypeError for float input\")\n",
    "    \n",
    "test_valid_parity()\n",
    "test_parity_type_error()\n",
    "\n",
    "print(\"All test cases pass\")"
   ]
  },
  {
   "cell_type": "markdown",
   "id": "ff1d8e55",
   "metadata": {},
   "source": [
    "### Implementing Choose (Ch)\n",
    "\n",
    "**Spec.** Defined in the Secure Hash Standard (FIPS 180-4, Section 4.1.2 p.10) as:\n",
    ">\n",
    ">$\\text{Ch}(x, y, z) = (x \\land y) \\oplus (\\lnot x \\land z)$\n",
    ">\n",
    "\n",
    "\n",
    "**How it works**:  \n",
    "The ch functions uses x as a selector mask. For each bit position , if x is 1, the output takes the bit from y.  \n",
    "If x is 0, the output takes the bit from z.  \n",
    "\n",
    "This is achieved by calculating $(x \\land y)$ to select bits from y where x is 1, then $(\\lnot x \\land z)$ to select bits from z where x is 0. Then XOR the results together.\n",
    "\n",
    "**Example**  \n",
    "X       =   1110  \n",
    "Y       =   1010  \n",
    "Z       =   1111  \n",
    "\n",
    "Output  =   1011\n",
    "\n",
    "See: [FIPS 180-4](https://nvlpubs.nist.gov/nistpubs/FIPS/NIST.FIPS.180-4.pdf)"
   ]
  },
  {
   "cell_type": "code",
   "execution_count": null,
   "id": "390761be",
   "metadata": {},
   "outputs": [],
   "source": [
    "def ch(x: int, y: int, z: int) -> np.uint32:\n",
    "    \"\"\"\n",
    "    Bitwise Choose: return bits from y where x is 1, and bits from z where x is 0.\n",
    "\n",
    "    Parameters\n",
    "    ----------\n",
    "        x, y, z : int\n",
    "            32-bit unsigned integers.\n",
    "\n",
    "    Returns\n",
    "    -------\n",
    "        numpy.uint32\n",
    "            The output 'masked' value of the three integers.\n",
    "\n",
    "    Raises\n",
    "    ------\n",
    "        TypeError\n",
    "            If any argument is not an integer.\n",
    "    \"\"\"\n",
    "\n",
    "    # Loop over the parameters passed\n",
    "    for args in (x, y, z):\n",
    "        # Use isinstance + raise TypeError as before\n",
    "        # See: Problem 1 -> Implementing Parity\n",
    "        if not isinstance(args, (int, np.integer)):\n",
    "            raise TypeError(\"All arguments must be integers. No other types are allowed.\")\n",
    "\n",
    "    # Cast values as before, see: Problem 1 -> Implementing Parity\n",
    "    x, y, z = np.uint32(x), np.uint32(y), np.uint32(z)\n",
    "\n",
    "    # Perform the bitwise operation and return the value\n",
    "    return (x & y) ^ (~x & z)"
   ]
  },
  {
   "cell_type": "markdown",
   "id": "3e09eea4",
   "metadata": {},
   "source": [
    "#### Test Cases (Choose)\n",
    "\n",
    "Checking\n",
    "- Correct results for trivial values\n",
    "- Correct results for non-trivial values\n",
    "- Type enforcement (raise TypeError for non-integer values)"
   ]
  },
  {
   "cell_type": "code",
   "execution_count": 5,
   "id": "64aa98fc",
   "metadata": {},
   "outputs": [
    {
     "name": "stdout",
     "output_type": "stream",
     "text": [
      "All test cases pass\n"
     ]
    }
   ],
   "source": [
    "# Same test cases and checks as Problem 1 -> Parity\n",
    "def test_valid_ch():\n",
    "    assert ch(1, 0, 0) == np.uint32(0)\n",
    "    assert ch(1, 1, 0) == np.uint32(1)\n",
    "    assert ch(5, 12, 6) == np.uint32(6)\n",
    "\n",
    "def test_ch_type_error():\n",
    "    try:\n",
    "        ch(1.5, 2, 3)\n",
    "    except TypeError:\n",
    "        pass\n",
    "    else:\n",
    "        raise AssertionError(\"Expected TypeError for float input\")\n",
    "\n",
    "test_valid_ch()\n",
    "test_ch_type_error()\n",
    "\n",
    "print(\"All test cases pass\")"
   ]
  },
  {
   "cell_type": "markdown",
   "id": "9f6c782a",
   "metadata": {},
   "source": [
    "### Implementing Majority (Maj)\n",
    "\n",
    "**Spec.** Defined in the Secure Hash Standard (FIPS 180-4, Section 4.1.2, p.10) as:\n",
    ">\n",
    ">$\\text{maj}(x, y, z) = (x \\land y) \\oplus (x \\land z) \\oplus (y \\land z)$\n",
    ">\n",
    "\n",
    "**How it works**:  \n",
    "The Maj functions implements majority voting at each bit position. For each bit, the output is 1 if atleast two input bits are 1, otherwise 0.  \n",
    "This is computed by taking the AND of each pair of inputs $(x \\land y)$, $(x \\land z)$, and $(y \\land z)$, then XOR the three results together.\n",
    "\n",
    "\n",
    "**Example**  \n",
    "X       =   11101110  \n",
    "Y       =   10100101  \n",
    "Z       =   11111001  \n",
    "\n",
    "Output  =   11101101\n",
    "\n",
    "See: [FIPS 180-4](https://nvlpubs.nist.gov/nistpubs/FIPS/NIST.FIPS.180-4.pdf)"
   ]
  },
  {
   "cell_type": "code",
   "execution_count": null,
   "id": "02cfa911",
   "metadata": {},
   "outputs": [],
   "source": [
    "def maj(x: int, y: int, z: int) -> np.uint32:\n",
    "    \"\"\"\n",
    "    Bitwise Majority: output bit is 1 if two or more input bits are 1.\n",
    "\n",
    "    Parameters\n",
    "    ----------\n",
    "        x, y, z : int\n",
    "            32-bit unsigned integers.\n",
    "\n",
    "    Returns\n",
    "    -------\n",
    "        numpy.uint32\n",
    "            The output 'voted' values of the three integers.\n",
    "\n",
    "    Raises\n",
    "    ------\n",
    "        TypeError\n",
    "            If any argument is not an integer.\n",
    "    \"\"\"\n",
    "\n",
    "    # Loop over args, use isinstance & raise TypeError as before\n",
    "    # See: Problem 1 -> Implementing Parity\n",
    "    for args in (x, y, z):\n",
    "        if not isinstance(args, (int, np.integer)):\n",
    "            raise TypeError(\"All arguments must be integers. No other types are allowed.\")\n",
    "    \n",
    "    # Cast values as before, see: Problem 1 -> Implementing Parity\n",
    "    x, y, z = np.uint32(x), np.uint32(y), np.uint32(z)\n",
    "\n",
    "    # Perform the bitwise operation & return the value\n",
    "    return (x & y) ^ (x & z) ^ (y & z)"
   ]
  },
  {
   "cell_type": "markdown",
   "id": "71ec06c7",
   "metadata": {},
   "source": [
    "#### Test Cases (Majority)\n",
    "\n",
    "Checking\n",
    "- Correct results for trivial values\n",
    "- Correct results for non-trivial values\n",
    "- Type enforcement (raise TypeError for non-integer values)"
   ]
  },
  {
   "cell_type": "code",
   "execution_count": 7,
   "id": "71073809",
   "metadata": {},
   "outputs": [
    {
     "name": "stdout",
     "output_type": "stream",
     "text": [
      "All test cases pass\n"
     ]
    }
   ],
   "source": [
    "# Same test cases and checks as Problem 1 -> Implementing Parity\n",
    "def test_maj_valid():\n",
    "    assert maj(1, 0, 0) == np.uint32(0)\n",
    "    assert maj(1, 1, 0) == np.uint32(1)\n",
    "    assert maj(5, 12, 6) == np.uint32(4)\n",
    "\n",
    "def test_maj_type_error():\n",
    "    try:\n",
    "        maj(1.5, 2, 3)\n",
    "    except TypeError:\n",
    "        pass\n",
    "    else:\n",
    "        raise AssertionError(\"Expected TypeError for float input\")\n",
    "\n",
    "test_maj_valid()\n",
    "test_maj_type_error()\n",
    "\n",
    "print(\"All test cases pass\")\n"
   ]
  },
  {
   "cell_type": "markdown",
   "id": "39d1b896",
   "metadata": {},
   "source": [
    "### Implementing Big & Small Sigmas with Helper Functions"
   ]
  },
  {
   "cell_type": "markdown",
   "id": "db637e38",
   "metadata": {},
   "source": [
    "#### Helper Functions\n",
    "\n",
    "The Sigma functions use bit rotation and shifting operations. These helper functions implement ROTR & SHR as defined in FIPS 180-4, Section 3.2 (p.9).\n",
    "\n",
    "**Spec.** Defined in the Secure Hash Standard (FIPS 180-4, p.8-9) as:\n",
    ">\n",
    ">$\\text{ROTR}^n(x) = (x \\gg n) \\lor (x \\ll (w-n))$\n",
    ">\n",
    ">$\\text{SHR}^n(x) = x \\gg n$\n",
    ">\n",
    "\n",
    "- `rotr(x, n)`: Rotate right -  shifts bits to the right **n** times, 'fallen' bits move back to the left (start)\n",
    "- `shr(x, n)`: Logical shift right - shifts bits to the right **n** times; fills left with zeros.\n",
    "\n",
    "**Example**  \n",
    "x = 10110011\n",
    "\n",
    "rotr(x, 2) = 11101100  \n",
    "shr(x, 4) = 00001011\n",
    "\n",
    "See: [FIPS 180-4, Section 3.2](https://nvlpubs.nist.gov/nistpubs/FIPS/NIST.FIPS.180-4.pdf)"
   ]
  },
  {
   "cell_type": "code",
   "execution_count": null,
   "id": "004d7afb",
   "metadata": {},
   "outputs": [],
   "source": [
    "def rotr(x: int, n: int) -> np.uint32:\n",
    "    \"\"\"\n",
    "    Perform a right rotation on a 32-bit unsigned integer.\n",
    "\n",
    "    Parameters\n",
    "    ----------\n",
    "        x : int\n",
    "            32-bit unsigned integer to be rotated.\n",
    "        n : int\n",
    "            Number of positions to rotate.\n",
    "\n",
    "    Returns\n",
    "    -------\n",
    "        numpy.uint32\n",
    "            The result of the right rotation as a 32-bit unsigned integer.\n",
    "    \n",
    "    Raises\n",
    "    ------\n",
    "        TypeError\n",
    "            If any argument is not an integer.\n",
    "    \"\"\"\n",
    "\n",
    "    # Type check as before\n",
    "    for args in (x, n):\n",
    "        if not isinstance(args, (int, np.integer)):\n",
    "            raise TypeError(\"All arguments must be integers. No other types are allowed.\")\n",
    "    \n",
    "    # Early return if n is 0\n",
    "    if n == 0:\n",
    "        return x\n",
    "    \n",
    "    # Ensure n is within the range of 0-31\n",
    "    n = n % 32\n",
    "\n",
    "    # Cast value to ensure correct type and prevent overflow errors\n",
    "    x = np.uint32(x)\n",
    "\n",
    "    # Perform the rotation and return the value\n",
    "    return (x >> n) | (x << (32 - n))"
   ]
  },
  {
   "cell_type": "code",
   "execution_count": null,
   "id": "d71a7400",
   "metadata": {},
   "outputs": [],
   "source": [
    "def shr(x: int, n: int) -> np.uint32:\n",
    "    \"\"\"\n",
    "    Perform a logical right shift on a 32-bit unsigned integer.\n",
    "\n",
    "    Parameters\n",
    "    ----------\n",
    "        x : int \n",
    "            32-bit unsigned integer to be shifted.\n",
    "        n : int\n",
    "            Number of positions to shift.\n",
    "\n",
    "    Returns\n",
    "    -------\n",
    "        numpy.uint32\n",
    "            The result of the logical right shift as a 32-bit unsigned integer.\n",
    "    \"\"\"\n",
    "\n",
    "    # Type check as before\n",
    "    for args in (x, n):\n",
    "        if not isinstance(args, (int, np.integer)):\n",
    "            raise TypeError(\"All arguments must be integers. No other types are allowed.\")\n",
    "        \n",
    "    # Early return if n is 0\n",
    "    if n == 0:\n",
    "        return x\n",
    "    \n",
    "    # Ensure n is within the range of 0-31\n",
    "    n = n % 32\n",
    "\n",
    "    # Cast value to ensure correct type and prevent overflow errors\n",
    "    x = np.uint32(x)\n",
    "\n",
    "    # Perform the logical right shift and return the value\n",
    "    return x >> n"
   ]
  },
  {
   "cell_type": "markdown",
   "id": "ebad3b11",
   "metadata": {},
   "source": [
    "##### Test Cases (Helper Functions)\n",
    "\n",
    "Checking\n",
    "- Correct results for passed values\n",
    "- Type enforcement (raise TypeError for non-integer values)"
   ]
  },
  {
   "cell_type": "code",
   "execution_count": 10,
   "id": "84d9f7df",
   "metadata": {},
   "outputs": [
    {
     "name": "stdout",
     "output_type": "stream",
     "text": [
      "All test cases pass\n"
     ]
    }
   ],
   "source": [
    "# Same format for tests as previous sub-problems\n",
    "def test_rotr_valid():\n",
    "    assert rotr(10, 1) == np.uint32(5)\n",
    "    assert rotr(10, 2) == np.uint32(2147483650)\n",
    "    assert rotr(16, 4) == np.uint32(1)\n",
    "\n",
    "def test_shr_valid():\n",
    "    assert shr(10, 1) == np.uint32(5)\n",
    "    assert shr(10, 2) == np.uint32(2)\n",
    "\n",
    "def test_rotr_type_error():\n",
    "    try:\n",
    "        rotr(1.5, 2)\n",
    "    except TypeError:\n",
    "        pass\n",
    "    else:\n",
    "        raise AssertionError(\"Expected TypeError for float input\")\n",
    "\n",
    "def test_shr_type_error():\n",
    "    try:\n",
    "        shr(1.5, 2)\n",
    "    except TypeError:\n",
    "        pass\n",
    "    else:\n",
    "        raise AssertionError(\"Expected TypeError for float input\")\n",
    "\n",
    "test_rotr_valid()\n",
    "test_shr_valid()\n",
    "test_rotr_type_error()\n",
    "test_shr_type_error()\n",
    "\n",
    "print(\"All test cases pass\")"
   ]
  },
  {
   "cell_type": "markdown",
   "id": "4048283c",
   "metadata": {},
   "source": [
    "#### Big Sigma 0 - $\\Sigma_0(x)$\n",
    "\n",
    "**Spec.** Defined in the Secure Hash Standard (FIPS 180-4, Section 4.1.2, p.10) as:\n",
    ">\n",
    ">$\\Sigma_0(x) = \\text{ROTR}^{2}(x) \\oplus \\text{ROTR}^{13}(x) \\oplus \\text{ROTR}^{22}(x)$\n",
    ">  \n",
    "\n",
    "**How it works**:  \n",
    "Rotates the input x by three different amounts (2, 13 and 22 bit positions), then XOR the three results together. This makes sure the bit mixing is rigorous.  \n",
    "\n",
    "The rotation amounts were chosen during SHA-256's development process to ensure optimal security.\n",
    "\n",
    "**Example**  \n",
    "x = 10110011\n",
    "\n",
    "Each bit is rotated **2**, **13** & **22** times, then XOR'd together | (2 XOR 13) XOR 22.  \n",
    "\n",
    "See: [FIPS 180-4](https://nvlpubs.nist.gov/nistpubs/FIPS/NIST.FIPS.180-4.pdf)\n"
   ]
  },
  {
   "cell_type": "code",
   "execution_count": null,
   "id": "61db59a0",
   "metadata": {},
   "outputs": [],
   "source": [
    "def big_sigma_0(x: int) -> np.uint32:\n",
    "    \"\"\"\n",
    "    Implementing the Big Sigma 0 function used in SHA-256.\n",
    "\n",
    "    Parameters\n",
    "    ----------\n",
    "        x : int\n",
    "            32-bit unsigned integer.\n",
    "\n",
    "    Returns\n",
    "    -------\n",
    "        numpy.uint32\n",
    "            Result of ROTR(2) XOR ROTR(13) XOR ROTR(22)\n",
    "\n",
    "    Raises\n",
    "    ------\n",
    "        TypeError\n",
    "            If the argument is not an integer.\n",
    "    \"\"\"\n",
    "    # Type check as before\n",
    "    if not isinstance(x, (int, np.integer)):\n",
    "        raise TypeError(\"Argument must be an integer. No other types are allowed.\")\n",
    "\n",
    "    # Cast to np.uint32 to ensure correct type\n",
    "    x = np.uint32(x)\n",
    "\n",
    "    # Perform the Big Sigma 0 operation and return the value\n",
    "    return np.uint32(rotr(x, 2) ^ rotr(x, 13) ^ rotr(x, 22))"
   ]
  },
  {
   "cell_type": "markdown",
   "id": "0c8c5411",
   "metadata": {},
   "source": [
    "#### Big Sigma 1 - $\\Sigma_1(x)$\n",
    "\n",
    "**Spec.** Defined in the Secure Hash Standard (FIPS 180-4, Section 4.1.2, p.10) as:\n",
    ">\n",
    ">$\\Sigma_1(x) = \\text{ROTR}^{6}(x) \\oplus \\text{ROTR}^{11}(x) \\oplus \\text{ROTR}^{25}(x)$\n",
    ">  \n",
    "\n",
    "**How it works**:  \n",
    "Similar to $\\Sigma_0$. Rotates the input x by three different amounts (6, 11 and 25 bit positions), then XOR the three results together. This makes sure the bit mixing is rigorous.  \n",
    "\n",
    "The rotation amounts were chosen during SHA-256's development process to ensure optimal security.\n",
    "**Example**  \n",
    "x = 10110011  \n",
    "\n",
    "Each bit is rotated **6**, **11** & **25** times, then XOR'd together | (6 XOR 11) XOR 25. \n",
    "\n",
    "\n",
    "See: [FIPS 180-4](https://nvlpubs.nist.gov/nistpubs/FIPS/NIST.FIPS.180-4.pdf)"
   ]
  },
  {
   "cell_type": "code",
   "execution_count": null,
   "id": "3b52cba2",
   "metadata": {},
   "outputs": [],
   "source": [
    "def big_sigma_1(x: int) -> np.uint32:\n",
    "    \"\"\"\n",
    "    Implementing the Big Sigma 1 function used in SHA-256.\n",
    "        \n",
    "    Parameters\n",
    "    ----------\n",
    "        x : int\n",
    "            32-bit unsigned integer.\n",
    "\n",
    "    Returns\n",
    "    -------\n",
    "        numpy.uint32\n",
    "            Result of the Big Sigma 1 function as a 32-bit unsigned integer.\n",
    "    \"\"\"\n",
    "    # Type check as before\n",
    "    if not isinstance(x, (int, np.integer)):\n",
    "        raise TypeError(\"Argument must be an integer. No other types are allowed.\")\n",
    "\n",
    "    # Cast to np.uint32 to ensure correct type as before\n",
    "    x = np.uint32(x)\n",
    "\n",
    "    # Perform the Big Sigma 1 operation and return the value\n",
    "    return np.uint32(rotr(x, 6) ^ rotr(x, 11) ^ rotr(x, 25))"
   ]
  },
  {
   "cell_type": "markdown",
   "id": "beae99fe",
   "metadata": {},
   "source": [
    "##### Test Cases (Big Sigma(s))"
   ]
  },
  {
   "cell_type": "code",
   "execution_count": 13,
   "id": "4dddd201",
   "metadata": {},
   "outputs": [
    {
     "name": "stdout",
     "output_type": "stream",
     "text": [
      "All test cases pass\n"
     ]
    }
   ],
   "source": [
    "def test_bsigma_0_valid():\n",
    "    assert big_sigma_0(1)  == np.uint32(rotr(1, 2) ^ rotr(1, 13) ^ rotr(1, 22))\n",
    "    assert big_sigma_0(5)  == np.uint32(rotr(5, 2) ^ rotr(5, 13) ^ rotr(5, 22))\n",
    "    assert big_sigma_0(10) == np.uint32(rotr(10, 2) ^ rotr(10, 13) ^ rotr(10, 22))\n",
    "\n",
    "def test_bsigma_1_valid():\n",
    "    assert big_sigma_1(1)  == np.uint32(rotr(1, 6) ^ rotr(1, 11) ^ rotr(1, 25))\n",
    "    assert big_sigma_1(5)  == np.uint32(rotr(5, 6) ^ rotr(5, 11) ^ rotr(5, 25))\n",
    "    assert big_sigma_1(10) == np.uint32(rotr(10, 6) ^ rotr(10, 11) ^ rotr(10, 25))\n",
    "\n",
    "\n",
    "def test_bsigma_type_error():\n",
    "    try:\n",
    "        big_sigma_0(1.5)\n",
    "    except TypeError:\n",
    "        pass\n",
    "    else:\n",
    "        raise AssertionError(\"Expected TypeError for float input\")\n",
    "    \n",
    "    try:\n",
    "        big_sigma_1(1.5)\n",
    "    except TypeError:\n",
    "        pass\n",
    "    else:\n",
    "         raise AssertionError(\"Expected TypeError for float input\")\n",
    "\n",
    "test_bsigma_0_valid()\n",
    "test_bsigma_1_valid()\n",
    "test_bsigma_type_error()\n",
    "\n",
    "print(\"All test cases pass\")"
   ]
  },
  {
   "cell_type": "markdown",
   "id": "1a279407",
   "metadata": {},
   "source": [
    "#### Small Sigma 0 & 1\n",
    "- sigma 0 -> XOR Bitwise, 2 rotations (7, 18) & Bitwise shift right (3) - SHA-256 Reference required here\n",
    "- sigma 1 -> XOR Bitwise, 2 rotations (17, 19) & Bitwise shift right (10) - SHA-256 Reference required here"
   ]
  },
  {
   "cell_type": "code",
   "execution_count": 14,
   "id": "83581c89",
   "metadata": {},
   "outputs": [],
   "source": [
    "def small_sigma_0(x):\n",
    "    \"\"\"\n",
    "    Implementing the Small Sigma 0 function used in SHA-256.\n",
    "\n",
    "    Args:\n",
    "        x (int): 32-bit unsigned integer.\n",
    "    \n",
    "    Returns:\n",
    "        int: Result of the Small Sigma 0 function as a 32-bit unsigned integer.\n",
    "    \"\"\"\n",
    "\n",
    "    if not isinstance(x, (int, np.integer)):\n",
    "        raise TypeError(\"Argument must be an integer. No other types are allowed.\")\n",
    "\n",
    "    x = np.uint32(x)\n",
    "    return np.uint32(rotr(x, 7) ^ rotr(x, 18) ^ shr(x, 3))"
   ]
  },
  {
   "cell_type": "code",
   "execution_count": 15,
   "id": "3a3b59d9",
   "metadata": {},
   "outputs": [],
   "source": [
    "def small_sigma_1(x):\n",
    "    \"\"\"\n",
    "    Implementing the Small Sigma 1 function used in SHA-256.\n",
    "\n",
    "    Args:\n",
    "        x (int): 32-bit unsigned integer.\n",
    "    \n",
    "    Returns:\n",
    "        int: Result of the Small Sigma 1 function as a 32-bit unsigned integer.\n",
    "    \"\"\"\n",
    "\n",
    "    if not isinstance(x, (int, np.integer)):\n",
    "        raise TypeError(\"Argument must be an integer. No other types are allowed.\")\n",
    "\n",
    "    x = np.uint32(x)\n",
    "    return np.uint32(rotr(x, 17) ^ rotr(x, 19) ^ shr(x, 10))"
   ]
  },
  {
   "cell_type": "markdown",
   "id": "6fca1805",
   "metadata": {},
   "source": [
    "##### Test Cases (Small Sigma(s))"
   ]
  },
  {
   "cell_type": "code",
   "execution_count": 16,
   "id": "42e61c58",
   "metadata": {},
   "outputs": [
    {
     "name": "stdout",
     "output_type": "stream",
     "text": [
      "All test cases pass\n"
     ]
    }
   ],
   "source": [
    "def test_ssigma_0_valid():\n",
    "    assert small_sigma_0(1)  == np.uint32(rotr(1, 7) ^ rotr(1, 18) ^ shr(1, 3))\n",
    "    assert small_sigma_0(5)  == np.uint32(rotr(5, 7) ^ rotr(5, 18) ^ shr(5, 3))\n",
    "    assert small_sigma_0(10) == np.uint32(rotr(10, 7) ^ rotr(10, 18) ^ shr(10, 3))\n",
    "\n",
    "def test_ssigma_type_error():\n",
    "    try:\n",
    "        small_sigma_0(1.5)\n",
    "    except TypeError:\n",
    "        pass\n",
    "    else:\n",
    "        raise AssertionError(\"Expected TypeError for float input\")\n",
    "    \n",
    "    try:\n",
    "        small_sigma_1(1.5)\n",
    "    except TypeError:\n",
    "        pass\n",
    "    else:\n",
    "         raise AssertionError(\"Expected TypeError for float input\")\n",
    "\n",
    "test_ssigma_0_valid()\n",
    "test_ssigma_type_error()\n",
    "\n",
    "print(\"All test cases pass\")"
   ]
  },
  {
   "cell_type": "markdown",
   "id": "ef476619",
   "metadata": {},
   "source": [
    "## Problem 2 - Fractional Parts of Cube Roots"
   ]
  },
  {
   "cell_type": "markdown",
   "id": "013665f6",
   "metadata": {},
   "source": [
    "## Problem 3 - Padding"
   ]
  },
  {
   "cell_type": "markdown",
   "id": "af7e1883",
   "metadata": {},
   "source": [
    "## Problem 4 - Hashes"
   ]
  },
  {
   "cell_type": "markdown",
   "id": "d06fcf25",
   "metadata": {},
   "source": [
    "## Problem 5 - Passwords"
   ]
  },
  {
   "cell_type": "markdown",
   "id": "bd8f51d5",
   "metadata": {},
   "source": [
    "## Conclusion"
   ]
  },
  {
   "cell_type": "markdown",
   "id": "3d73ad75",
   "metadata": {},
   "source": [
    "## End"
   ]
  }
 ],
 "metadata": {
  "kernelspec": {
   "display_name": "Python 3",
   "language": "python",
   "name": "python3"
  },
  "language_info": {
   "codemirror_mode": {
    "name": "ipython",
    "version": 3
   },
   "file_extension": ".py",
   "mimetype": "text/x-python",
   "name": "python",
   "nbconvert_exporter": "python",
   "pygments_lexer": "ipython3",
   "version": "3.12.1"
  }
 },
 "nbformat": 4,
 "nbformat_minor": 5
}
