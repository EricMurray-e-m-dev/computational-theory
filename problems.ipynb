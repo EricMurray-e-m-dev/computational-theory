{
 "cells": [
  {
   "cell_type": "markdown",
   "id": "987d22f5",
   "metadata": {},
   "source": [
    "# Computational Theory"
   ]
  },
  {
   "cell_type": "markdown",
   "id": "b4c51809",
   "metadata": {},
   "source": [
    "## Introduction"
   ]
  },
  {
   "cell_type": "markdown",
   "id": "f4d96485",
   "metadata": {},
   "source": [
    "## Imports"
   ]
  },
  {
   "cell_type": "code",
   "execution_count": 51,
   "id": "5e23dc10",
   "metadata": {},
   "outputs": [],
   "source": [
    "import numpy as np"
   ]
  },
  {
   "cell_type": "markdown",
   "id": "27ac5d68",
   "metadata": {},
   "source": [
    "## Problem 1 - Binary Words & Operations"
   ]
  },
  {
   "cell_type": "markdown",
   "id": "b91c76a0",
   "metadata": {},
   "source": [
    "### Implementing Parity"
   ]
  },
  {
   "cell_type": "code",
   "execution_count": 52,
   "id": "38de5e27",
   "metadata": {},
   "outputs": [],
   "source": [
    "def parity(x, y, z):\n",
    "    \"\"\"\n",
    "    Calculate the parity (bitwise XOR) of 3 32-bit unsigned integers.\n",
    "\n",
    "    Args:\n",
    "        x, y, z (int): 32-bit unsigned integer.\n",
    "\n",
    "    Returns:\n",
    "        int: The parity of the three integers as a 32-bit unsigned integer.\n",
    "\n",
    "    \"\"\"\n",
    "\n",
    "    for args in (x, y, z):\n",
    "        if not isinstance(args, (int, np.integer)):\n",
    "            raise TypeError(\"All arguments must be integers. No other types are allowed.\")\n",
    "\n",
    "    # Using the built in ^ operator to compute the bitwise XOR of the three integers\n",
    "    # np.uint32 is used to force the result as a 32-bit unsigned integer\n",
    "    return np.uint32(x) ^ np.uint32(y) ^ np.uint32(z)"
   ]
  },
  {
   "cell_type": "markdown",
   "id": "49add163",
   "metadata": {},
   "source": [
    "#### Test Cases"
   ]
  },
  {
   "cell_type": "code",
   "execution_count": 53,
   "id": "7c875e59",
   "metadata": {},
   "outputs": [
    {
     "name": "stdout",
     "output_type": "stream",
     "text": [
      "All test cases pass\n"
     ]
    }
   ],
   "source": [
    "def test_valid_parity():\n",
    "    assert parity(1, 0, 0) == np.uint32(1)\n",
    "    assert parity(1, 1, 0) == np.uint32(0)\n",
    "    assert parity(5, 12, 6) == np.uint32(15)\n",
    "\n",
    "def test_parity_type_error():\n",
    "    try:\n",
    "        parity(1.5, 2, 3)\n",
    "    except TypeError:\n",
    "        pass\n",
    "    else:\n",
    "        raise AssertionError(\"Expected TypeError for float input\")\n",
    "    \n",
    "test_valid_parity()\n",
    "test_parity_type_error()\n",
    "\n",
    "print(\"All test cases pass\")"
   ]
  },
  {
   "cell_type": "markdown",
   "id": "ff1d8e55",
   "metadata": {},
   "source": [
    "### Implementing Choose (Ch)"
   ]
  },
  {
   "cell_type": "code",
   "execution_count": 54,
   "id": "390761be",
   "metadata": {},
   "outputs": [],
   "source": [
    "def ch(x, y, z):\n",
    "    \"\"\"\n",
    "    Implementing the choose function used in SHA-256.\n",
    "\n",
    "    The choose function is defined as:\n",
    "        Ch(x, y, z) = (x AND y) XOR (NOT x AND z)\n",
    "\n",
    "    In my own words,\n",
    "        X acts as a 'mask' , each bit of the 32-bit int is checked\n",
    "        If the current bit is 1, the i'th bit of y is chosen\n",
    "        else the i'th bit of z is chosen.\n",
    "    \n",
    "    Example:\n",
    "        x = 100'200'123 =       00000101 11111000 11101110 10111011\n",
    "        y = 123'200'100 =       00000111 01010111 11100010 01100100\n",
    "        z = 200'123'100 =       00001011 11101101 10100010 11011100\n",
    "        Output - If X's current bit is 1 => \"Choose\" Y's bit\n",
    "                    Else \"Choose\" X's bit\n",
    "                                00001111 01010101 11100010 01100100\n",
    "\n",
    "    Args:\n",
    "        x, y, z (int): 32-bit unsigned integers.\n",
    "        \n",
    "    Returns:\n",
    "        int: The result of the choose function as a 32-bit unsigned integer.\n",
    "    \n",
    "    References:\n",
    "        Used external site for grabbing example values\n",
    "        See: https://www.binaryconvert.com/convert_unsigned_int.html\n",
    "    \"\"\"\n",
    "\n",
    "    for args in (x, y, z):\n",
    "        if not isinstance(args, (int, np.integer)):\n",
    "            raise TypeError(\"All arguments must be integers. No other types are allowed.\")\n",
    "\n",
    "    # Using the tilde(~) operator to compute the bitwise NOT\n",
    "    # np.uint32 is used to force the result as a 32-bit unsigned integer\n",
    "    return np.uint32((x & y) ^ (~x & z))"
   ]
  },
  {
   "cell_type": "markdown",
   "id": "3e09eea4",
   "metadata": {},
   "source": [
    "#### Test Cases"
   ]
  },
  {
   "cell_type": "code",
   "execution_count": 55,
   "id": "64aa98fc",
   "metadata": {},
   "outputs": [
    {
     "name": "stdout",
     "output_type": "stream",
     "text": [
      "All test cases pass\n"
     ]
    }
   ],
   "source": [
    "def test_valid_ch():\n",
    "    assert ch(1, 0, 0) == np.uint32(0)\n",
    "    assert ch(1, 1, 0) == np.uint32(1)\n",
    "    assert ch(5, 12, 6) == np.uint32(6)\n",
    "\n",
    "def test_ch_type_error():\n",
    "    try:\n",
    "        ch(1.5, 2, 3)\n",
    "    except TypeError:\n",
    "        pass\n",
    "    else:\n",
    "        raise AssertionError(\"Expected TypeError for float input\")\n",
    "\n",
    "test_valid_ch()\n",
    "test_ch_type_error()\n",
    "\n",
    "print(\"All test cases pass\")"
   ]
  },
  {
   "cell_type": "markdown",
   "id": "9f6c782a",
   "metadata": {},
   "source": [
    "### Implementing Majority (Maj)"
   ]
  },
  {
   "cell_type": "code",
   "execution_count": 56,
   "id": "02cfa911",
   "metadata": {},
   "outputs": [],
   "source": [
    "def maj(x, y, z):\n",
    "    \"\"\"\n",
    "    Implementing the majority function used in SHA-256.\n",
    "\n",
    "    The majority function is defined as:\n",
    "        Maj(x, y, z) = (x AND y) XOR (x AND z) XOR (y AND z)\n",
    "    \n",
    "    In my own words,\n",
    "        The majority function checks each bit of each of the passed ints.\n",
    "        If 2 or more bits are 1, the output is 1, else 0.\n",
    "    \n",
    "    Example:\n",
    "        X       =    01101001\n",
    "        Y       =    11010100\n",
    "        Z       =    11110000\n",
    "        Output  =    11110000\n",
    "\n",
    "    Args:\n",
    "        x, y, z (int): 32-bit unsigned integers.\n",
    "    \n",
    "    Returns:\n",
    "        int: Returns the majority bitwise as 32-bit unsigned integer.\n",
    "    \n",
    "    References:\n",
    "    \n",
    "    \"\"\"\n",
    "\n",
    "    for args in (x, y, z):\n",
    "        if not isinstance(args, (int, np.integer)):\n",
    "            raise TypeError(\"All arguments must be integers. No other types are allowed.\")\n",
    "    \n",
    "    return np.uint32((x & y) ^ (x & z) ^ (y & z))"
   ]
  },
  {
   "cell_type": "markdown",
   "id": "71ec06c7",
   "metadata": {},
   "source": [
    "#### Test Cases"
   ]
  },
  {
   "cell_type": "code",
   "execution_count": 57,
   "id": "71073809",
   "metadata": {},
   "outputs": [
    {
     "name": "stdout",
     "output_type": "stream",
     "text": [
      "All test cases pass\n"
     ]
    }
   ],
   "source": [
    "def test_maj_valid():\n",
    "    assert maj(1, 0, 0) == np.uint32(0)\n",
    "    assert maj(1, 1, 0) == np.uint32(1)\n",
    "    assert maj(5, 12, 6) == np.uint32(4)\n",
    "\n",
    "def test_maj_type_error():\n",
    "    try:\n",
    "        maj(1.5, 2, 3)\n",
    "    except TypeError:\n",
    "        pass\n",
    "    else:\n",
    "        raise AssertionError(\"Expected TypeError for float input\")\n",
    "\n",
    "test_maj_valid()\n",
    "test_maj_type_error()\n",
    "\n",
    "print(\"All test cases pass\")\n"
   ]
  },
  {
   "cell_type": "markdown",
   "id": "ef476619",
   "metadata": {},
   "source": [
    "## Problem 2 - Fractional Parts of Cube Roots"
   ]
  },
  {
   "cell_type": "markdown",
   "id": "013665f6",
   "metadata": {},
   "source": [
    "## Problem 3 - Padding"
   ]
  },
  {
   "cell_type": "markdown",
   "id": "af7e1883",
   "metadata": {},
   "source": [
    "## Problem 4 - Hashes"
   ]
  },
  {
   "cell_type": "markdown",
   "id": "d06fcf25",
   "metadata": {},
   "source": [
    "## Problem 5 - Passwords"
   ]
  },
  {
   "cell_type": "markdown",
   "id": "bd8f51d5",
   "metadata": {},
   "source": [
    "## Conclusion"
   ]
  },
  {
   "cell_type": "markdown",
   "id": "3d73ad75",
   "metadata": {},
   "source": [
    "## End"
   ]
  }
 ],
 "metadata": {
  "kernelspec": {
   "display_name": "Python 3",
   "language": "python",
   "name": "python3"
  },
  "language_info": {
   "codemirror_mode": {
    "name": "ipython",
    "version": 3
   },
   "file_extension": ".py",
   "mimetype": "text/x-python",
   "name": "python",
   "nbconvert_exporter": "python",
   "pygments_lexer": "ipython3",
   "version": "3.12.1"
  }
 },
 "nbformat": 4,
 "nbformat_minor": 5
}
